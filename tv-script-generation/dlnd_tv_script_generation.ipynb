{
 "cells": [
  {
   "cell_type": "markdown",
   "metadata": {
    "deletable": true,
    "editable": true
   },
   "source": [
    "# TV Script Generation\n",
    "In this project, you'll generate your own [Simpsons](https://en.wikipedia.org/wiki/The_Simpsons) TV scripts using RNNs.  You'll be using part of the [Simpsons dataset](https://www.kaggle.com/wcukierski/the-simpsons-by-the-data) of scripts from 27 seasons.  The Neural Network you'll build will generate a new TV script for a scene at [Moe's Tavern](https://simpsonswiki.com/wiki/Moe's_Tavern).\n",
    "## Get the Data\n",
    "The data is already provided for you.  You'll be using a subset of the original dataset.  It consists of only the scenes in Moe's Tavern.  This doesn't include other versions of the tavern, like \"Moe's Cavern\", \"Flaming Moe's\", \"Uncle Moe's Family Feed-Bag\", etc.."
   ]
  },
  {
   "cell_type": "code",
   "execution_count": 2,
   "metadata": {
    "collapsed": false,
    "deletable": true,
    "editable": true
   },
   "outputs": [],
   "source": [
    "\"\"\"\n",
    "DON'T MODIFY ANYTHING IN THIS CELL\n",
    "\"\"\"\n",
    "import os\n",
    "os.environ[\"CUDA_DEVICE_ORDER\"]=\"PCI_BUS_ID\"\n",
    "os.environ[\"CUDA_VISIBLE_DEVICES\"]=\"4\"\n",
    "import helper\n",
    "\n",
    "data_dir = './data/simpsons/moes_tavern_lines.txt'\n",
    "# text = helper.load_data(data_dir)\n",
    "# Ignore notice, since we don't use it for analysing the data\n",
    "with open(data_dir, encoding='utf-8', mode=\"r\") as f:\n",
    "    text = f.read()\n",
    "\n",
    "text = text[81:]"
   ]
  },
  {
   "cell_type": "markdown",
   "metadata": {
    "deletable": true,
    "editable": true
   },
   "source": [
    "## Explore the Data\n",
    "Play around with `view_sentence_range` to view different parts of the data."
   ]
  },
  {
   "cell_type": "code",
   "execution_count": 3,
   "metadata": {
    "collapsed": false,
    "deletable": true,
    "editable": true
   },
   "outputs": [
    {
     "name": "stdout",
     "output_type": "stream",
     "text": [
      "Dataset Stats\n",
      "Roughly the number of unique words: 11492\n",
      "Number of scenes: 262\n",
      "Average number of sentences in each scene: 15.248091603053435\n",
      "Number of lines: 4257\n",
      "Average number of words in each line: 11.50434578341555\n",
      "\n",
      "The sentences 0 to 10:\n",
      "e_Szyslak: (INTO PHONE) Moe's Tavern. Where the elite meet to drink.\n",
      "Bart_Simpson: Eh, yeah, hello, is Mike there? Last name, Rotch.\n",
      "Moe_Szyslak: (INTO PHONE) Hold on, I'll check. (TO BARFLIES) Mike Rotch. Mike Rotch. Hey, has anybody seen Mike Rotch, lately?\n",
      "Moe_Szyslak: (INTO PHONE) Listen you little puke. One of these days I'm gonna catch you, and I'm gonna carve my name on your back with an ice pick.\n",
      "Moe_Szyslak: What's the matter Homer? You're not your normal effervescent self.\n",
      "Homer_Simpson: I got my problems, Moe. Give me another one.\n",
      "Moe_Szyslak: Homer, hey, you should not drink to forget your problems.\n",
      "Barney_Gumble: Yeah, you should only drink to enhance your social skills.\n",
      "\n",
      "\n"
     ]
    }
   ],
   "source": [
    "view_sentence_range = (0, 10)\n",
    "\n",
    "\"\"\"\n",
    "DON'T MODIFY ANYTHING IN THIS CELL\n",
    "\"\"\"\n",
    "import numpy as np\n",
    "\n",
    "print('Dataset Stats')\n",
    "print('Roughly the number of unique words: {}'.format(len({word: None for word in text.split()})))\n",
    "scenes = text.split('\\n\\n')\n",
    "print('Number of scenes: {}'.format(len(scenes)))\n",
    "sentence_count_scene = [scene.count('\\n') for scene in scenes]\n",
    "print('Average number of sentences in each scene: {}'.format(np.average(sentence_count_scene)))\n",
    "\n",
    "sentences = [sentence for scene in scenes for sentence in scene.split('\\n')]\n",
    "print('Number of lines: {}'.format(len(sentences)))\n",
    "word_count_sentence = [len(sentence.split()) for sentence in sentences]\n",
    "print('Average number of words in each line: {}'.format(np.average(word_count_sentence)))\n",
    "\n",
    "print()\n",
    "print('The sentences {} to {}:'.format(*view_sentence_range))\n",
    "print('\\n'.join(text.split('\\n')[view_sentence_range[0]:view_sentence_range[1]]))"
   ]
  },
  {
   "cell_type": "markdown",
   "metadata": {
    "deletable": true,
    "editable": true
   },
   "source": [
    "## Implement Preprocessing Functions\n",
    "The first thing to do to any dataset is preprocessing.  Implement the following preprocessing functions below:\n",
    "- Lookup Table\n",
    "- Tokenize Punctuation\n",
    "\n",
    "### Lookup Table\n",
    "To create a word embedding, you first need to transform the words to ids.  In this function, create two dictionaries:\n",
    "- Dictionary to go from the words to an id, we'll call `vocab_to_int`\n",
    "- Dictionary to go from the id to word, we'll call `int_to_vocab`\n",
    "\n",
    "Return these dictionaries in the following tuple `(vocab_to_int, int_to_vocab)`"
   ]
  },
  {
   "cell_type": "code",
   "execution_count": 4,
   "metadata": {
    "collapsed": false,
    "deletable": true,
    "editable": true
   },
   "outputs": [
    {
     "name": "stdout",
     "output_type": "stream",
     "text": [
      "Tests Passed\n"
     ]
    }
   ],
   "source": [
    "import numpy as np\n",
    "import problem_unittests as tests\n",
    "\n",
    "def create_lookup_tables(text):\n",
    "    \"\"\"\n",
    "    Create lookup tables for vocabulary\n",
    "    :param text: The text of tv scripts split into words\n",
    "    :return: A tuple of dicts (vocab_to_int, int_to_vocab)\n",
    "    \"\"\"\n",
    "    # TODO: Implement Function\n",
    "    vocab = set((text))\n",
    "    \n",
    "    vocab_to_int ={word: ii for ii,word in enumerate(vocab)}\n",
    "    int_to_vocab ={ii: word for ii,word in enumerate(vocab)}\n",
    "    return vocab_to_int, int_to_vocab\n",
    "\n",
    "\n",
    "\"\"\"\n",
    "DON'T MODIFY ANYTHING IN THIS CELL THAT IS BELOW THIS LINE\n",
    "\"\"\"\n",
    "tests.test_create_lookup_tables(create_lookup_tables)"
   ]
  },
  {
   "cell_type": "markdown",
   "metadata": {
    "deletable": true,
    "editable": true
   },
   "source": [
    "### Tokenize Punctuation\n",
    "We'll be splitting the script into a word array using spaces as delimiters.  However, punctuations like periods and exclamation marks make it hard for the neural network to distinguish between the word \"bye\" and \"bye!\".\n",
    "\n",
    "Implement the function `token_lookup` to return a dict that will be used to tokenize symbols like \"!\" into \"||Exclamation_Mark||\".  Create a dictionary for the following symbols where the symbol is the key and value is the token:\n",
    "- Period ( . )\n",
    "- Comma ( , )\n",
    "- Quotation Mark ( \" )\n",
    "- Semicolon ( ; )\n",
    "- Exclamation mark ( ! )\n",
    "- Question mark ( ? )\n",
    "- Left Parentheses ( ( )\n",
    "- Right Parentheses ( ) )\n",
    "- Dash ( -- )\n",
    "- Return ( \\n )\n",
    "\n",
    "This dictionary will be used to token the symbols and add the delimiter (space) around it.  This separates the symbols as it's own word, making it easier for the neural network to predict on the next word. Make sure you don't use a token that could be confused as a word. Instead of using the token \"dash\", try using something like \"||dash||\"."
   ]
  },
  {
   "cell_type": "code",
   "execution_count": 5,
   "metadata": {
    "collapsed": false,
    "deletable": true,
    "editable": true
   },
   "outputs": [
    {
     "name": "stdout",
     "output_type": "stream",
     "text": [
      "Tests Passed\n"
     ]
    }
   ],
   "source": [
    "def token_lookup():\n",
    "    \"\"\"\n",
    "    Generate a dict to turn punctuation into a token.\n",
    "    :return: Tokenize dictionary where the key is the punctuation and the value is the token\n",
    "    \"\"\"\n",
    "    # TODO: Implement Function\n",
    "    token = {'.':'||Period||', ',':'||Comma||', '\"':'||Quotation||', ';':'||Semicolon||', \\\n",
    "                 '!':'||Exclamation||', '?':'||Question||', '(':'||Left_Parentheses||', ')':'||Right_Parentheses||',\\\n",
    "                 '--':'||Dash||', '\\n':'||Return||'}\n",
    "    \n",
    "    return token\n",
    "\n",
    "\"\"\"\n",
    "DON'T MODIFY ANYTHING IN THIS CELL THAT IS BELOW THIS LINE\n",
    "\"\"\"\n",
    "tests.test_tokenize(token_lookup)"
   ]
  },
  {
   "cell_type": "markdown",
   "metadata": {
    "deletable": true,
    "editable": true
   },
   "source": [
    "## Preprocess all the data and save it\n",
    "Running the code cell below will preprocess all the data and save it to file."
   ]
  },
  {
   "cell_type": "code",
   "execution_count": 6,
   "metadata": {
    "collapsed": false,
    "deletable": true,
    "editable": true
   },
   "outputs": [],
   "source": [
    "\"\"\"\n",
    "DON'T MODIFY ANYTHING IN THIS CELL\n",
    "\"\"\"\n",
    "# Preprocess Training, Validation, and Testing Data\n",
    "helper.preprocess_and_save_data(data_dir, token_lookup, create_lookup_tables)"
   ]
  },
  {
   "cell_type": "markdown",
   "metadata": {
    "deletable": true,
    "editable": true
   },
   "source": [
    "# Check Point\n",
    "This is your first checkpoint. If you ever decide to come back to this notebook or have to restart the notebook, you can start from here. The preprocessed data has been saved to disk."
   ]
  },
  {
   "cell_type": "code",
   "execution_count": 7,
   "metadata": {
    "collapsed": false,
    "deletable": true,
    "editable": true
   },
   "outputs": [],
   "source": [
    "\"\"\"\n",
    "DON'T MODIFY ANYTHING IN THIS CELL\n",
    "\"\"\"\n",
    "import helper\n",
    "import numpy as np\n",
    "import problem_unittests as tests\n",
    "\n",
    "int_text, vocab_to_int, int_to_vocab, token_dict = helper.load_preprocess()"
   ]
  },
  {
   "cell_type": "markdown",
   "metadata": {
    "deletable": true,
    "editable": true
   },
   "source": [
    "## Build the Neural Network\n",
    "You'll build the components necessary to build a RNN by implementing the following functions below:\n",
    "- get_inputs\n",
    "- get_init_cell\n",
    "- get_embed\n",
    "- build_rnn\n",
    "- build_nn\n",
    "- get_batches\n",
    "\n",
    "### Check the Version of TensorFlow and Access to GPU"
   ]
  },
  {
   "cell_type": "code",
   "execution_count": 8,
   "metadata": {
    "collapsed": false,
    "deletable": true,
    "editable": true
   },
   "outputs": [
    {
     "name": "stdout",
     "output_type": "stream",
     "text": [
      "TensorFlow Version: 1.0.0\n",
      "Default GPU Device: /gpu:0\n"
     ]
    }
   ],
   "source": [
    "\"\"\"\n",
    "DON'T MODIFY ANYTHING IN THIS CELL\n",
    "\"\"\"\n",
    "from distutils.version import LooseVersion\n",
    "import warnings\n",
    "import tensorflow as tf\n",
    "\n",
    "# Check TensorFlow Version\n",
    "assert LooseVersion(tf.__version__) >= LooseVersion('1.0'), 'Please use TensorFlow version 1.0 or newer'\n",
    "print('TensorFlow Version: {}'.format(tf.__version__))\n",
    "\n",
    "# Check for a GPU\n",
    "if not tf.test.gpu_device_name():\n",
    "    warnings.warn('No GPU found. Please use a GPU to train your neural network.')\n",
    "else:\n",
    "    print('Default GPU Device: {}'.format(tf.test.gpu_device_name()))"
   ]
  },
  {
   "cell_type": "markdown",
   "metadata": {
    "deletable": true,
    "editable": true
   },
   "source": [
    "### Input\n",
    "Implement the `get_inputs()` function to create TF Placeholders for the Neural Network.  It should create the following placeholders:\n",
    "- Input text placeholder named \"input\" using the [TF Placeholder](https://www.tensorflow.org/api_docs/python/tf/placeholder) `name` parameter.\n",
    "- Targets placeholder\n",
    "- Learning Rate placeholder\n",
    "\n",
    "Return the placeholders in the following tuple `(Input, Targets, LearningRate)`"
   ]
  },
  {
   "cell_type": "code",
   "execution_count": 9,
   "metadata": {
    "collapsed": false,
    "deletable": true,
    "editable": true
   },
   "outputs": [
    {
     "name": "stdout",
     "output_type": "stream",
     "text": [
      "Tests Passed\n"
     ]
    }
   ],
   "source": [
    "def get_inputs():\n",
    "    \"\"\"\n",
    "    Create TF Placeholders for input, targets, and learning rate.\n",
    "    :return: Tuple (input, targets, learning rate)\n",
    "    \"\"\"\n",
    "    # TODO: Implement Function\n",
    "    Input = tf.placeholder(tf.int32, [None, None], name='input')\n",
    "    Targets = tf.placeholder(tf.int32, [None, None], name='targets')\n",
    "    LearningRate = tf.placeholder(tf.float32, name='learningrate')\n",
    "    return Input, Targets, LearningRate\n",
    "\n",
    "\n",
    "\"\"\"\n",
    "DON'T MODIFY ANYTHING IN THIS CELL THAT IS BELOW THIS LINE\n",
    "\"\"\"\n",
    "tests.test_get_inputs(get_inputs)"
   ]
  },
  {
   "cell_type": "markdown",
   "metadata": {
    "deletable": true,
    "editable": true
   },
   "source": [
    "### Build RNN Cell and Initialize\n",
    "Stack one or more [`BasicLSTMCells`](https://www.tensorflow.org/api_docs/python/tf/contrib/rnn/BasicLSTMCell) in a [`MultiRNNCell`](https://www.tensorflow.org/api_docs/python/tf/contrib/rnn/MultiRNNCell).\n",
    "- The Rnn size should be set using `rnn_size`\n",
    "- Initalize Cell State using the MultiRNNCell's [`zero_state()`](https://www.tensorflow.org/api_docs/python/tf/contrib/rnn/MultiRNNCell#zero_state) function\n",
    "    - Apply the name \"initial_state\" to the initial state using [`tf.identity()`](https://www.tensorflow.org/api_docs/python/tf/identity)\n",
    "\n",
    "Return the cell and initial state in the following tuple `(Cell, InitialState)`"
   ]
  },
  {
   "cell_type": "code",
   "execution_count": 10,
   "metadata": {
    "collapsed": false,
    "deletable": true,
    "editable": true
   },
   "outputs": [
    {
     "name": "stdout",
     "output_type": "stream",
     "text": [
      "Tests Passed\n"
     ]
    }
   ],
   "source": [
    "def get_init_cell(batch_size, rnn_size):\n",
    "    \"\"\"\n",
    "    Create an RNN Cell and initialize it.\n",
    "    :param batch_size: Size of batches\n",
    "    :param rnn_size: Size of RNNs\n",
    "    :return: Tuple (cell, initialize state)\n",
    "    \"\"\"\n",
    "    # TODO: Implement Function\n",
    "    lstm = tf.contrib.rnn.BasicLSTMCell(rnn_size)\n",
    "    Cell = tf.contrib.rnn.MultiRNNCell([lstm])\n",
    "    \n",
    "    InitialState = Cell.zero_state(batch_size, tf.float32)\n",
    "    InitialState = tf.identity(input=InitialState, name='initial_state')\n",
    "    return Cell, InitialState\n",
    "\n",
    "\n",
    "\"\"\"\n",
    "DON'T MODIFY ANYTHING IN THIS CELL THAT IS BELOW THIS LINE\n",
    "\"\"\"\n",
    "tests.test_get_init_cell(get_init_cell)"
   ]
  },
  {
   "cell_type": "markdown",
   "metadata": {
    "deletable": true,
    "editable": true
   },
   "source": [
    "### Word Embedding\n",
    "Apply embedding to `input_data` using TensorFlow.  Return the embedded sequence."
   ]
  },
  {
   "cell_type": "code",
   "execution_count": 11,
   "metadata": {
    "collapsed": false,
    "deletable": true,
    "editable": true
   },
   "outputs": [
    {
     "name": "stdout",
     "output_type": "stream",
     "text": [
      "Tests Passed\n"
     ]
    }
   ],
   "source": [
    "def get_embed(input_data, vocab_size, embed_dim):\n",
    "    \"\"\"\n",
    "    Create embedding for <input_data>.\n",
    "    :param input_data: TF placeholder for text input.\n",
    "    :param vocab_size: Number of words in vocabulary.\n",
    "    :param embed_dim: Number of embedding dimensions\n",
    "    :return: Embedded input.\n",
    "    \"\"\"\n",
    "    # TODO: Implement Function\n",
    "    embedding = tf.Variable(tf.random_uniform((vocab_size,embed_dim),-1,1))\n",
    "    embed = tf.nn.embedding_lookup(embedding, input_data)\n",
    "    return embed\n",
    "\n",
    "\n",
    "\"\"\"\n",
    "DON'T MODIFY ANYTHING IN THIS CELL THAT IS BELOW THIS LINE\n",
    "\"\"\"\n",
    "tests.test_get_embed(get_embed)"
   ]
  },
  {
   "cell_type": "markdown",
   "metadata": {
    "deletable": true,
    "editable": true
   },
   "source": [
    "### Build RNN\n",
    "You created a RNN Cell in the `get_init_cell()` function.  Time to use the cell to create a RNN.\n",
    "- Build the RNN using the [`tf.nn.dynamic_rnn()`](https://www.tensorflow.org/api_docs/python/tf/nn/dynamic_rnn)\n",
    " - Apply the name \"final_state\" to the final state using [`tf.identity()`](https://www.tensorflow.org/api_docs/python/tf/identity)\n",
    "\n",
    "Return the outputs and final_state state in the following tuple `(Outputs, FinalState)` "
   ]
  },
  {
   "cell_type": "code",
   "execution_count": 12,
   "metadata": {
    "collapsed": false,
    "deletable": true,
    "editable": true
   },
   "outputs": [
    {
     "name": "stdout",
     "output_type": "stream",
     "text": [
      "Tests Passed\n"
     ]
    }
   ],
   "source": [
    "def build_rnn(cell, inputs):\n",
    "    \"\"\"\n",
    "    Create a RNN using a RNN Cell\n",
    "    :param cell: RNN Cell\n",
    "    :param inputs: Input text data\n",
    "    :return: Tuple (Outputs, Final State)\n",
    "    \"\"\"\n",
    "    # TODO: Implement Function\n",
    "    Outputs, FinalState = tf.nn.dynamic_rnn(cell, inputs, dtype=tf.float32)\n",
    "    final_state=tf.identity(FinalState, name='final_state')\n",
    "    return Outputs, final_state\n",
    "\n",
    "\n",
    "\"\"\"\n",
    "DON'T MODIFY ANYTHING IN THIS CELL THAT IS BELOW THIS LINE\n",
    "\"\"\"\n",
    "tests.test_build_rnn(build_rnn)"
   ]
  },
  {
   "cell_type": "markdown",
   "metadata": {
    "deletable": true,
    "editable": true
   },
   "source": [
    "### Build the Neural Network\n",
    "Apply the functions you implemented above to:\n",
    "- Apply embedding to `input_data` using your `get_embed(input_data, vocab_size, embed_dim)` function.\n",
    "- Build RNN using `cell` and your `build_rnn(cell, inputs)` function.\n",
    "- Apply a fully connected layer with a linear activation and `vocab_size` as the number of outputs.\n",
    "\n",
    "Return the logits and final state in the following tuple (Logits, FinalState) "
   ]
  },
  {
   "cell_type": "code",
   "execution_count": 13,
   "metadata": {
    "collapsed": false,
    "deletable": true,
    "editable": true
   },
   "outputs": [
    {
     "name": "stdout",
     "output_type": "stream",
     "text": [
      "Tests Passed\n"
     ]
    }
   ],
   "source": [
    "def build_nn(cell, rnn_size, input_data, vocab_size, embed_dim):\n",
    "    \"\"\"\n",
    "    Build part of the neural network\n",
    "    :param cell: RNN cell\n",
    "    :param rnn_size: Size of rnns\n",
    "    :param input_data: Input data\n",
    "    :param vocab_size: Vocabulary size\n",
    "    :param embed_dim: Number of embedding dimensions\n",
    "    :return: Tuple (Logits, FinalState)\n",
    "    \"\"\"\n",
    "    # TODO: Implement Function\n",
    "    embed=get_embed(embed_dim=embed_dim, input_data=input_data, vocab_size=vocab_size)\n",
    "    outputs, FinalState=build_rnn(cell, embed)\n",
    "    Logits = tf.layers.dense(outputs, vocab_size,activation=None)\n",
    "    return Logits, FinalState\n",
    "\n",
    "\n",
    "\"\"\"\n",
    "DON'T MODIFY ANYTHING IN THIS CELL THAT IS BELOW THIS LINE\n",
    "\"\"\"\n",
    "tests.test_build_nn(build_nn)"
   ]
  },
  {
   "cell_type": "markdown",
   "metadata": {
    "deletable": true,
    "editable": true
   },
   "source": [
    "### Batches\n",
    "Implement `get_batches` to create batches of input and targets using `int_text`.  The batches should be a Numpy array with the shape `(number of batches, 2, batch size, sequence length)`. Each batch contains two elements:\n",
    "- The first element is a single batch of **input** with the shape `[batch size, sequence length]`\n",
    "- The second element is a single batch of **targets** with the shape `[batch size, sequence length]`\n",
    "\n",
    "If you can't fill the last batch with enough data, drop the last batch.\n",
    "\n",
    "For exmple, `get_batches([1, 2, 3, 4, 5, 6, 7, 8, 9, 10, 11, 12, 13, 14, 15], 2, 3)` would return a Numpy array of the following:\n",
    "```\n",
    "[\n",
    "  # First Batch\n",
    "  [\n",
    "    # Batch of Input\n",
    "    [[ 1  2  3], [ 7  8  9]],\n",
    "    # Batch of targets\n",
    "    [[ 2  3  4], [ 8  9 10]]\n",
    "  ],\n",
    " \n",
    "  # Second Batch\n",
    "  [\n",
    "    # Batch of Input\n",
    "    [[ 4  5  6], [10 11 12]],\n",
    "    # Batch of targets\n",
    "    [[ 5  6  7], [11 12 13]]\n",
    "  ]\n",
    "]\n",
    "```"
   ]
  },
  {
   "cell_type": "markdown",
   "metadata": {},
   "source": [
    "    从上图的get_batches来看，return value是nparray，\n",
    "    [\n",
    "        [\n",
    "            [input],[target]     ],\n",
    "        [   [in2],[tart2]        ]\n",
    "                                ]应该是一个大的batches 矩阵 装n个batch，每个batch里面是input和target，\n",
    "                                shape为 (n_batch, 2(input,target), batchsize, seq_length)"
   ]
  },
  {
   "cell_type": "code",
   "execution_count": 14,
   "metadata": {
    "collapsed": false,
    "deletable": true,
    "editable": true
   },
   "outputs": [
    {
     "name": "stdout",
     "output_type": "stream",
     "text": [
      "Tests Passed\n"
     ]
    }
   ],
   "source": [
    "def get_batches(int_text, batch_size, seq_length):\n",
    "    \"\"\"\n",
    "    Return batches of input and target\n",
    "    :param int_text: Text with the words replaced by their ids\n",
    "    :param batch_size: The size of batch\n",
    "    :param seq_length: The length of sequence\n",
    "    :return: Batches as a Numpy array\n",
    "    \"\"\"\n",
    "    # TODO: Implement Function\n",
    "    n_batch = len(int_text)//(batch_size*seq_length)\n",
    "    int_text = int_text[:n_batch*batch_size*seq_length]\n",
    "#     print(int_text.shape)\n",
    "    Batches=np.zeros((n_batch, 2, batch_size, seq_length))\n",
    "    for ii in range(n_batch):\n",
    "        batch_holder = np.zeros(shape = (2, batch_size, seq_length), dtype = np.int32)\n",
    "        one_batch_seq = np.zeros(shape = (batch_size, seq_length), dtype = np.int32)\n",
    "        one_batch_tar = np.zeros(shape = (batch_size, seq_length), dtype = np.int32)\n",
    "        for jj in range(batch_size):\n",
    "            x = np.array(int_text[ii*jj: ii*jj+seq_length])\n",
    "            y = np.array(int_text[ii*jj +1: ii*jj+seq_length +1])\n",
    "#             print(len(x))\n",
    "            \n",
    "            one_batch_seq = x\n",
    "            one_batch_tar = y\n",
    "#             yield x,y\n",
    "        batch_holder[0] = one_batch_seq\n",
    "        batch_holder[1] = one_batch_tar\n",
    "#         print(batch_holder)\n",
    "        Batches[ii] = batch_holder\n",
    "    return Batches\n",
    "\n",
    "\"\"\"\n",
    "DON'T MODIFY ANYTHING IN THIS CELL THAT IS BELOW THIS LINE\n",
    "\"\"\"\n",
    "tests.test_get_batches(get_batches)"
   ]
  },
  {
   "cell_type": "markdown",
   "metadata": {
    "deletable": true,
    "editable": true
   },
   "source": [
    "## Neural Network Training\n",
    "### Hyperparameters\n",
    "Tune the following parameters:\n",
    "\n",
    "- Set `num_epochs` to the number of epochs.\n",
    "- Set `batch_size` to the batch size.\n",
    "- Set `rnn_size` to the size of the RNNs.\n",
    "- Set `embed_dim` to the size of the embedding.\n",
    "- Set `seq_length` to the length of sequence.\n",
    "- Set `learning_rate` to the learning rate.\n",
    "- Set `show_every_n_batches` to the number of batches the neural network should print progress."
   ]
  },
  {
   "cell_type": "markdown",
   "metadata": {},
   "source": [
    "    num_epochs100, acc 0.4\n",
    "    num_epochs200, acc 0.09\n",
    "    num_epochs300, acc 0.04"
   ]
  },
  {
   "cell_type": "code",
   "execution_count": 33,
   "metadata": {
    "collapsed": true,
    "deletable": true,
    "editable": true
   },
   "outputs": [],
   "source": [
    "# Number of Epochs\n",
    "num_epochs = 100   # 200, 300\n",
    "# Batch Size\n",
    "batch_size = 256\n",
    "# RNN Size\n",
    "rnn_size = 512\n",
    "# Embedding Dimension Size\n",
    "embed_dim = 300\n",
    "# Sequence Length\n",
    "seq_length = 64\n",
    "# Learning Rate\n",
    "learning_rate = 5e-4\n",
    "# Show stats for every n number of batches\n",
    "show_every_n_batches = 1\n",
    "\n",
    "\"\"\"\n",
    "DON'T MODIFY ANYTHING IN THIS CELL THAT IS BELOW THIS LINE\n",
    "\"\"\"\n",
    "save_dir = './save'"
   ]
  },
  {
   "cell_type": "markdown",
   "metadata": {
    "deletable": true,
    "editable": true
   },
   "source": [
    "### Build the Graph\n",
    "Build the graph using the neural network you implemented."
   ]
  },
  {
   "cell_type": "code",
   "execution_count": 34,
   "metadata": {
    "collapsed": false,
    "deletable": true,
    "editable": true
   },
   "outputs": [],
   "source": [
    "\"\"\"\n",
    "DON'T MODIFY ANYTHING IN THIS CELL\n",
    "\"\"\"\n",
    "from tensorflow.contrib import seq2seq\n",
    "\n",
    "train_graph = tf.Graph()\n",
    "with train_graph.as_default():\n",
    "    vocab_size = len(int_to_vocab)\n",
    "    input_text, targets, lr = get_inputs()\n",
    "    input_data_shape = tf.shape(input_text)\n",
    "    cell, initial_state = get_init_cell(input_data_shape[0], rnn_size)\n",
    "    logits, final_state = build_nn(cell, rnn_size, input_text, vocab_size, embed_dim)\n",
    "\n",
    "    # Probabilities for generating words\n",
    "    probs = tf.nn.softmax(logits, name='probs')\n",
    "\n",
    "    # Loss function\n",
    "    cost = seq2seq.sequence_loss(\n",
    "        logits,\n",
    "        targets,\n",
    "        tf.ones([input_data_shape[0], input_data_shape[1]]))\n",
    "\n",
    "    # Optimizer\n",
    "    optimizer = tf.train.AdamOptimizer(lr)\n",
    "\n",
    "    # Gradient Clipping\n",
    "    gradients = optimizer.compute_gradients(cost)\n",
    "    capped_gradients = [(tf.clip_by_value(grad, -1., 1.), var) for grad, var in gradients if grad is not None]\n",
    "    train_op = optimizer.apply_gradients(capped_gradients)"
   ]
  },
  {
   "cell_type": "markdown",
   "metadata": {
    "deletable": true,
    "editable": true
   },
   "source": [
    "## Train\n",
    "Train the neural network on the preprocessed data.  If you have a hard time getting a good loss, check the [forms](https://discussions.udacity.com/) to see if anyone is having the same problem."
   ]
  },
  {
   "cell_type": "code",
   "execution_count": 35,
   "metadata": {
    "collapsed": false,
    "deletable": true,
    "editable": true,
    "scrolled": true
   },
   "outputs": [
    {
     "name": "stdout",
     "output_type": "stream",
     "text": [
      "Epoch   0 Batch    0/4   train_loss = 8.829\n",
      "Epoch   0 Batch    1/4   train_loss = 8.819\n",
      "Epoch   0 Batch    2/4   train_loss = 8.788\n",
      "Epoch   0 Batch    3/4   train_loss = 8.773\n",
      "Epoch   1 Batch    0/4   train_loss = 8.589\n",
      "Epoch   1 Batch    1/4   train_loss = 8.618\n",
      "Epoch   1 Batch    2/4   train_loss = 8.479\n",
      "Epoch   1 Batch    3/4   train_loss = 8.336\n",
      "Epoch   2 Batch    0/4   train_loss = 7.946\n",
      "Epoch   2 Batch    1/4   train_loss = 7.839\n",
      "Epoch   2 Batch    2/4   train_loss = 7.356\n",
      "Epoch   2 Batch    3/4   train_loss = 7.180\n",
      "Epoch   3 Batch    0/4   train_loss = 6.631\n",
      "Epoch   3 Batch    1/4   train_loss = 6.484\n",
      "Epoch   3 Batch    2/4   train_loss = 5.868\n",
      "Epoch   3 Batch    3/4   train_loss = 5.706\n",
      "Epoch   4 Batch    0/4   train_loss = 5.222\n",
      "Epoch   4 Batch    1/4   train_loss = 5.193\n",
      "Epoch   4 Batch    2/4   train_loss = 4.714\n",
      "Epoch   4 Batch    3/4   train_loss = 4.826\n",
      "Epoch   5 Batch    0/4   train_loss = 4.611\n",
      "Epoch   5 Batch    1/4   train_loss = 4.761\n",
      "Epoch   5 Batch    2/4   train_loss = 4.373\n",
      "Epoch   5 Batch    3/4   train_loss = 4.591\n",
      "Epoch   6 Batch    0/4   train_loss = 4.462\n",
      "Epoch   6 Batch    1/4   train_loss = 4.623\n",
      "Epoch   6 Batch    2/4   train_loss = 4.224\n",
      "Epoch   6 Batch    3/4   train_loss = 4.453\n",
      "Epoch   7 Batch    0/4   train_loss = 4.363\n",
      "Epoch   7 Batch    1/4   train_loss = 4.546\n",
      "Epoch   7 Batch    2/4   train_loss = 4.149\n",
      "Epoch   7 Batch    3/4   train_loss = 4.353\n",
      "Epoch   8 Batch    0/4   train_loss = 4.330\n",
      "Epoch   8 Batch    1/4   train_loss = 4.515\n",
      "Epoch   8 Batch    2/4   train_loss = 4.126\n",
      "Epoch   8 Batch    3/4   train_loss = 4.284\n",
      "Epoch   9 Batch    0/4   train_loss = 4.312\n",
      "Epoch   9 Batch    1/4   train_loss = 4.502\n",
      "Epoch   9 Batch    2/4   train_loss = 4.123\n",
      "Epoch   9 Batch    3/4   train_loss = 4.219\n",
      "Epoch  10 Batch    0/4   train_loss = 4.284\n",
      "Epoch  10 Batch    1/4   train_loss = 4.486\n",
      "Epoch  10 Batch    2/4   train_loss = 4.110\n",
      "Epoch  10 Batch    3/4   train_loss = 4.175\n",
      "Epoch  11 Batch    0/4   train_loss = 4.247\n",
      "Epoch  11 Batch    1/4   train_loss = 4.467\n",
      "Epoch  11 Batch    2/4   train_loss = 4.086\n",
      "Epoch  11 Batch    3/4   train_loss = 4.155\n",
      "Epoch  12 Batch    0/4   train_loss = 4.220\n",
      "Epoch  12 Batch    1/4   train_loss = 4.436\n",
      "Epoch  12 Batch    2/4   train_loss = 4.065\n",
      "Epoch  12 Batch    3/4   train_loss = 4.147\n",
      "Epoch  13 Batch    0/4   train_loss = 4.191\n",
      "Epoch  13 Batch    1/4   train_loss = 4.408\n",
      "Epoch  13 Batch    2/4   train_loss = 4.028\n",
      "Epoch  13 Batch    3/4   train_loss = 4.133\n",
      "Epoch  14 Batch    0/4   train_loss = 4.163\n",
      "Epoch  14 Batch    1/4   train_loss = 4.381\n",
      "Epoch  14 Batch    2/4   train_loss = 4.003\n",
      "Epoch  14 Batch    3/4   train_loss = 4.115\n",
      "Epoch  15 Batch    0/4   train_loss = 4.136\n",
      "Epoch  15 Batch    1/4   train_loss = 4.350\n",
      "Epoch  15 Batch    2/4   train_loss = 3.975\n",
      "Epoch  15 Batch    3/4   train_loss = 4.095\n",
      "Epoch  16 Batch    0/4   train_loss = 4.109\n",
      "Epoch  16 Batch    1/4   train_loss = 4.340\n",
      "Epoch  16 Batch    2/4   train_loss = 3.945\n",
      "Epoch  16 Batch    3/4   train_loss = 4.076\n",
      "Epoch  17 Batch    0/4   train_loss = 4.080\n",
      "Epoch  17 Batch    1/4   train_loss = 4.294\n",
      "Epoch  17 Batch    2/4   train_loss = 3.914\n",
      "Epoch  17 Batch    3/4   train_loss = 4.049\n",
      "Epoch  18 Batch    0/4   train_loss = 4.055\n",
      "Epoch  18 Batch    1/4   train_loss = 4.272\n",
      "Epoch  18 Batch    2/4   train_loss = 3.890\n",
      "Epoch  18 Batch    3/4   train_loss = 4.011\n",
      "Epoch  19 Batch    0/4   train_loss = 4.023\n",
      "Epoch  19 Batch    1/4   train_loss = 4.245\n",
      "Epoch  19 Batch    2/4   train_loss = 3.860\n",
      "Epoch  19 Batch    3/4   train_loss = 3.968\n",
      "Epoch  20 Batch    0/4   train_loss = 3.995\n",
      "Epoch  20 Batch    1/4   train_loss = 4.210\n",
      "Epoch  20 Batch    2/4   train_loss = 3.831\n",
      "Epoch  20 Batch    3/4   train_loss = 3.944\n",
      "Epoch  21 Batch    0/4   train_loss = 3.960\n",
      "Epoch  21 Batch    1/4   train_loss = 4.167\n",
      "Epoch  21 Batch    2/4   train_loss = 3.791\n",
      "Epoch  21 Batch    3/4   train_loss = 3.919\n",
      "Epoch  22 Batch    0/4   train_loss = 3.914\n",
      "Epoch  22 Batch    1/4   train_loss = 4.126\n",
      "Epoch  22 Batch    2/4   train_loss = 3.756\n",
      "Epoch  22 Batch    3/4   train_loss = 3.882\n",
      "Epoch  23 Batch    0/4   train_loss = 3.871\n",
      "Epoch  23 Batch    1/4   train_loss = 4.087\n",
      "Epoch  23 Batch    2/4   train_loss = 3.717\n",
      "Epoch  23 Batch    3/4   train_loss = 3.839\n",
      "Epoch  24 Batch    0/4   train_loss = 3.841\n",
      "Epoch  24 Batch    1/4   train_loss = 4.042\n",
      "Epoch  24 Batch    2/4   train_loss = 3.666\n",
      "Epoch  24 Batch    3/4   train_loss = 3.796\n",
      "Epoch  25 Batch    0/4   train_loss = 3.798\n",
      "Epoch  25 Batch    1/4   train_loss = 4.007\n",
      "Epoch  25 Batch    2/4   train_loss = 3.620\n",
      "Epoch  25 Batch    3/4   train_loss = 3.749\n",
      "Epoch  26 Batch    0/4   train_loss = 3.756\n",
      "Epoch  26 Batch    1/4   train_loss = 3.966\n",
      "Epoch  26 Batch    2/4   train_loss = 3.571\n",
      "Epoch  26 Batch    3/4   train_loss = 3.705\n",
      "Epoch  27 Batch    0/4   train_loss = 3.706\n",
      "Epoch  27 Batch    1/4   train_loss = 3.911\n",
      "Epoch  27 Batch    2/4   train_loss = 3.519\n",
      "Epoch  27 Batch    3/4   train_loss = 3.656\n",
      "Epoch  28 Batch    0/4   train_loss = 3.658\n",
      "Epoch  28 Batch    1/4   train_loss = 3.856\n",
      "Epoch  28 Batch    2/4   train_loss = 3.463\n",
      "Epoch  28 Batch    3/4   train_loss = 3.610\n",
      "Epoch  29 Batch    0/4   train_loss = 3.608\n",
      "Epoch  29 Batch    1/4   train_loss = 3.807\n",
      "Epoch  29 Batch    2/4   train_loss = 3.419\n",
      "Epoch  29 Batch    3/4   train_loss = 3.563\n",
      "Epoch  30 Batch    0/4   train_loss = 3.558\n",
      "Epoch  30 Batch    1/4   train_loss = 3.753\n",
      "Epoch  30 Batch    2/4   train_loss = 3.356\n",
      "Epoch  30 Batch    3/4   train_loss = 3.505\n",
      "Epoch  31 Batch    0/4   train_loss = 3.502\n",
      "Epoch  31 Batch    1/4   train_loss = 3.697\n",
      "Epoch  31 Batch    2/4   train_loss = 3.300\n",
      "Epoch  31 Batch    3/4   train_loss = 3.452\n",
      "Epoch  32 Batch    0/4   train_loss = 3.442\n",
      "Epoch  32 Batch    1/4   train_loss = 3.639\n",
      "Epoch  32 Batch    2/4   train_loss = 3.249\n",
      "Epoch  32 Batch    3/4   train_loss = 3.402\n",
      "Epoch  33 Batch    0/4   train_loss = 3.400\n",
      "Epoch  33 Batch    1/4   train_loss = 3.586\n",
      "Epoch  33 Batch    2/4   train_loss = 3.213\n",
      "Epoch  33 Batch    3/4   train_loss = 3.355\n",
      "Epoch  34 Batch    0/4   train_loss = 3.340\n",
      "Epoch  34 Batch    1/4   train_loss = 3.518\n",
      "Epoch  34 Batch    2/4   train_loss = 3.149\n",
      "Epoch  34 Batch    3/4   train_loss = 3.296\n",
      "Epoch  35 Batch    0/4   train_loss = 3.275\n",
      "Epoch  35 Batch    1/4   train_loss = 3.446\n",
      "Epoch  35 Batch    2/4   train_loss = 3.067\n",
      "Epoch  35 Batch    3/4   train_loss = 3.245\n",
      "Epoch  36 Batch    0/4   train_loss = 3.220\n",
      "Epoch  36 Batch    1/4   train_loss = 3.382\n",
      "Epoch  36 Batch    2/4   train_loss = 3.007\n",
      "Epoch  36 Batch    3/4   train_loss = 3.175\n",
      "Epoch  37 Batch    0/4   train_loss = 3.151\n",
      "Epoch  37 Batch    1/4   train_loss = 3.320\n",
      "Epoch  37 Batch    2/4   train_loss = 2.946\n",
      "Epoch  37 Batch    3/4   train_loss = 3.106\n",
      "Epoch  38 Batch    0/4   train_loss = 3.085\n",
      "Epoch  38 Batch    1/4   train_loss = 3.255\n",
      "Epoch  38 Batch    2/4   train_loss = 2.879\n",
      "Epoch  38 Batch    3/4   train_loss = 3.043\n",
      "Epoch  39 Batch    0/4   train_loss = 3.017\n",
      "Epoch  39 Batch    1/4   train_loss = 3.187\n",
      "Epoch  39 Batch    2/4   train_loss = 2.817\n",
      "Epoch  39 Batch    3/4   train_loss = 2.980\n",
      "Epoch  40 Batch    0/4   train_loss = 2.944\n",
      "Epoch  40 Batch    1/4   train_loss = 3.118\n",
      "Epoch  40 Batch    2/4   train_loss = 2.752\n",
      "Epoch  40 Batch    3/4   train_loss = 2.913\n",
      "Epoch  41 Batch    0/4   train_loss = 2.877\n",
      "Epoch  41 Batch    1/4   train_loss = 3.050\n",
      "Epoch  41 Batch    2/4   train_loss = 2.692\n",
      "Epoch  41 Batch    3/4   train_loss = 2.846\n",
      "Epoch  42 Batch    0/4   train_loss = 2.807\n",
      "Epoch  42 Batch    1/4   train_loss = 2.979\n",
      "Epoch  42 Batch    2/4   train_loss = 2.627\n",
      "Epoch  42 Batch    3/4   train_loss = 2.780\n",
      "Epoch  43 Batch    0/4   train_loss = 2.737\n",
      "Epoch  43 Batch    1/4   train_loss = 2.907\n",
      "Epoch  43 Batch    2/4   train_loss = 2.564\n",
      "Epoch  43 Batch    3/4   train_loss = 2.714\n",
      "Epoch  44 Batch    0/4   train_loss = 2.667\n",
      "Epoch  44 Batch    1/4   train_loss = 2.835\n",
      "Epoch  44 Batch    2/4   train_loss = 2.500\n",
      "Epoch  44 Batch    3/4   train_loss = 2.648\n",
      "Epoch  45 Batch    0/4   train_loss = 2.595\n",
      "Epoch  45 Batch    1/4   train_loss = 2.764\n",
      "Epoch  45 Batch    2/4   train_loss = 2.435\n",
      "Epoch  45 Batch    3/4   train_loss = 2.583\n",
      "Epoch  46 Batch    0/4   train_loss = 2.523\n",
      "Epoch  46 Batch    1/4   train_loss = 2.692\n",
      "Epoch  46 Batch    2/4   train_loss = 2.370\n",
      "Epoch  46 Batch    3/4   train_loss = 2.518\n",
      "Epoch  47 Batch    0/4   train_loss = 2.451\n",
      "Epoch  47 Batch    1/4   train_loss = 2.620\n",
      "Epoch  47 Batch    2/4   train_loss = 2.305\n",
      "Epoch  47 Batch    3/4   train_loss = 2.453\n",
      "Epoch  48 Batch    0/4   train_loss = 2.378\n",
      "Epoch  48 Batch    1/4   train_loss = 2.554\n",
      "Epoch  48 Batch    2/4   train_loss = 2.241\n",
      "Epoch  48 Batch    3/4   train_loss = 2.388\n",
      "Epoch  49 Batch    0/4   train_loss = 2.305\n",
      "Epoch  49 Batch    1/4   train_loss = 2.485\n",
      "Epoch  49 Batch    2/4   train_loss = 2.176\n",
      "Epoch  49 Batch    3/4   train_loss = 2.323\n",
      "Epoch  50 Batch    0/4   train_loss = 2.236\n",
      "Epoch  50 Batch    1/4   train_loss = 2.413\n",
      "Epoch  50 Batch    2/4   train_loss = 2.112\n",
      "Epoch  50 Batch    3/4   train_loss = 2.258\n",
      "Epoch  51 Batch    0/4   train_loss = 2.165\n",
      "Epoch  51 Batch    1/4   train_loss = 2.341\n",
      "Epoch  51 Batch    2/4   train_loss = 2.049\n",
      "Epoch  51 Batch    3/4   train_loss = 2.193\n",
      "Epoch  52 Batch    0/4   train_loss = 2.095\n",
      "Epoch  52 Batch    1/4   train_loss = 2.270\n",
      "Epoch  52 Batch    2/4   train_loss = 1.986\n",
      "Epoch  52 Batch    3/4   train_loss = 2.128\n",
      "Epoch  53 Batch    0/4   train_loss = 2.026\n",
      "Epoch  53 Batch    1/4   train_loss = 2.204\n",
      "Epoch  53 Batch    2/4   train_loss = 1.923\n",
      "Epoch  53 Batch    3/4   train_loss = 2.065\n",
      "Epoch  54 Batch    0/4   train_loss = 1.958\n",
      "Epoch  54 Batch    1/4   train_loss = 2.134\n",
      "Epoch  54 Batch    2/4   train_loss = 1.862\n",
      "Epoch  54 Batch    3/4   train_loss = 2.000\n",
      "Epoch  55 Batch    0/4   train_loss = 1.892\n",
      "Epoch  55 Batch    1/4   train_loss = 2.065\n",
      "Epoch  55 Batch    2/4   train_loss = 1.801\n",
      "Epoch  55 Batch    3/4   train_loss = 1.940\n",
      "Epoch  56 Batch    0/4   train_loss = 1.828\n",
      "Epoch  56 Batch    1/4   train_loss = 1.997\n",
      "Epoch  56 Batch    2/4   train_loss = 1.741\n",
      "Epoch  56 Batch    3/4   train_loss = 1.880\n",
      "Epoch  57 Batch    0/4   train_loss = 1.778\n",
      "Epoch  57 Batch    1/4   train_loss = 1.927\n",
      "Epoch  57 Batch    2/4   train_loss = 1.684\n",
      "Epoch  57 Batch    3/4   train_loss = 1.821\n",
      "Epoch  58 Batch    0/4   train_loss = 1.707\n",
      "Epoch  58 Batch    1/4   train_loss = 1.859\n",
      "Epoch  58 Batch    2/4   train_loss = 1.627\n",
      "Epoch  58 Batch    3/4   train_loss = 1.762\n",
      "Epoch  59 Batch    0/4   train_loss = 1.645\n",
      "Epoch  59 Batch    1/4   train_loss = 1.791\n",
      "Epoch  59 Batch    2/4   train_loss = 1.570\n",
      "Epoch  59 Batch    3/4   train_loss = 1.697\n",
      "Epoch  60 Batch    0/4   train_loss = 1.585\n",
      "Epoch  60 Batch    1/4   train_loss = 1.729\n",
      "Epoch  60 Batch    2/4   train_loss = 1.516\n",
      "Epoch  60 Batch    3/4   train_loss = 1.636\n",
      "Epoch  61 Batch    0/4   train_loss = 1.527\n",
      "Epoch  61 Batch    1/4   train_loss = 1.663\n",
      "Epoch  61 Batch    2/4   train_loss = 1.461\n",
      "Epoch  61 Batch    3/4   train_loss = 1.576\n",
      "Epoch  62 Batch    0/4   train_loss = 1.473\n",
      "Epoch  62 Batch    1/4   train_loss = 1.599\n",
      "Epoch  62 Batch    2/4   train_loss = 1.408\n",
      "Epoch  62 Batch    3/4   train_loss = 1.519\n",
      "Epoch  63 Batch    0/4   train_loss = 1.420\n",
      "Epoch  63 Batch    1/4   train_loss = 1.537\n",
      "Epoch  63 Batch    2/4   train_loss = 1.357\n",
      "Epoch  63 Batch    3/4   train_loss = 1.463\n",
      "Epoch  64 Batch    0/4   train_loss = 1.367\n",
      "Epoch  64 Batch    1/4   train_loss = 1.477\n",
      "Epoch  64 Batch    2/4   train_loss = 1.308\n",
      "Epoch  64 Batch    3/4   train_loss = 1.408\n",
      "Epoch  65 Batch    0/4   train_loss = 1.317\n",
      "Epoch  65 Batch    1/4   train_loss = 1.417\n",
      "Epoch  65 Batch    2/4   train_loss = 1.261\n",
      "Epoch  65 Batch    3/4   train_loss = 1.355\n",
      "Epoch  66 Batch    0/4   train_loss = 1.269\n",
      "Epoch  66 Batch    1/4   train_loss = 1.357\n",
      "Epoch  66 Batch    2/4   train_loss = 1.215\n",
      "Epoch  66 Batch    3/4   train_loss = 1.303\n",
      "Epoch  67 Batch    0/4   train_loss = 1.222\n",
      "Epoch  67 Batch    1/4   train_loss = 1.303\n",
      "Epoch  67 Batch    2/4   train_loss = 1.171\n",
      "Epoch  67 Batch    3/4   train_loss = 1.253\n",
      "Epoch  68 Batch    0/4   train_loss = 1.176\n",
      "Epoch  68 Batch    1/4   train_loss = 1.249\n",
      "Epoch  68 Batch    2/4   train_loss = 1.127\n",
      "Epoch  68 Batch    3/4   train_loss = 1.204\n",
      "Epoch  69 Batch    0/4   train_loss = 1.135\n",
      "Epoch  69 Batch    1/4   train_loss = 1.196\n",
      "Epoch  69 Batch    2/4   train_loss = 1.086\n",
      "Epoch  69 Batch    3/4   train_loss = 1.157\n",
      "Epoch  70 Batch    0/4   train_loss = 1.092\n",
      "Epoch  70 Batch    1/4   train_loss = 1.145\n",
      "Epoch  70 Batch    2/4   train_loss = 1.047\n",
      "Epoch  70 Batch    3/4   train_loss = 1.112\n",
      "Epoch  71 Batch    0/4   train_loss = 1.054\n",
      "Epoch  71 Batch    1/4   train_loss = 1.095\n",
      "Epoch  71 Batch    2/4   train_loss = 1.011\n",
      "Epoch  71 Batch    3/4   train_loss = 1.068\n",
      "Epoch  72 Batch    0/4   train_loss = 1.016\n",
      "Epoch  72 Batch    1/4   train_loss = 1.049\n",
      "Epoch  72 Batch    2/4   train_loss = 0.975\n",
      "Epoch  72 Batch    3/4   train_loss = 1.026\n",
      "Epoch  73 Batch    0/4   train_loss = 0.980\n",
      "Epoch  73 Batch    1/4   train_loss = 1.004\n",
      "Epoch  73 Batch    2/4   train_loss = 0.942\n",
      "Epoch  73 Batch    3/4   train_loss = 0.987\n",
      "Epoch  74 Batch    0/4   train_loss = 0.945\n",
      "Epoch  74 Batch    1/4   train_loss = 0.960\n",
      "Epoch  74 Batch    2/4   train_loss = 0.910\n",
      "Epoch  74 Batch    3/4   train_loss = 0.947\n",
      "Epoch  75 Batch    0/4   train_loss = 0.913\n",
      "Epoch  75 Batch    1/4   train_loss = 0.921\n",
      "Epoch  75 Batch    2/4   train_loss = 0.880\n",
      "Epoch  75 Batch    3/4   train_loss = 0.911\n",
      "Epoch  76 Batch    0/4   train_loss = 0.882\n",
      "Epoch  76 Batch    1/4   train_loss = 0.880\n",
      "Epoch  76 Batch    2/4   train_loss = 0.851\n",
      "Epoch  76 Batch    3/4   train_loss = 0.877\n",
      "Epoch  77 Batch    0/4   train_loss = 0.852\n",
      "Epoch  77 Batch    1/4   train_loss = 0.843\n",
      "Epoch  77 Batch    2/4   train_loss = 0.824\n",
      "Epoch  77 Batch    3/4   train_loss = 0.843\n",
      "Epoch  78 Batch    0/4   train_loss = 0.824\n",
      "Epoch  78 Batch    1/4   train_loss = 0.808\n",
      "Epoch  78 Batch    2/4   train_loss = 0.798\n",
      "Epoch  78 Batch    3/4   train_loss = 0.814\n",
      "Epoch  79 Batch    0/4   train_loss = 0.797\n",
      "Epoch  79 Batch    1/4   train_loss = 0.774\n",
      "Epoch  79 Batch    2/4   train_loss = 0.773\n",
      "Epoch  79 Batch    3/4   train_loss = 0.786\n",
      "Epoch  80 Batch    0/4   train_loss = 0.772\n",
      "Epoch  80 Batch    1/4   train_loss = 0.744\n",
      "Epoch  80 Batch    2/4   train_loss = 0.751\n",
      "Epoch  80 Batch    3/4   train_loss = 0.757\n",
      "Epoch  81 Batch    0/4   train_loss = 0.748\n",
      "Epoch  81 Batch    1/4   train_loss = 0.712\n",
      "Epoch  81 Batch    2/4   train_loss = 0.728\n",
      "Epoch  81 Batch    3/4   train_loss = 0.729\n",
      "Epoch  82 Batch    0/4   train_loss = 0.724\n",
      "Epoch  82 Batch    1/4   train_loss = 0.684\n",
      "Epoch  82 Batch    2/4   train_loss = 0.707\n",
      "Epoch  82 Batch    3/4   train_loss = 0.703\n",
      "Epoch  83 Batch    0/4   train_loss = 0.702\n",
      "Epoch  83 Batch    1/4   train_loss = 0.657\n",
      "Epoch  83 Batch    2/4   train_loss = 0.687\n",
      "Epoch  83 Batch    3/4   train_loss = 0.679\n",
      "Epoch  84 Batch    0/4   train_loss = 0.681\n",
      "Epoch  84 Batch    1/4   train_loss = 0.632\n",
      "Epoch  84 Batch    2/4   train_loss = 0.668\n",
      "Epoch  84 Batch    3/4   train_loss = 0.657\n",
      "Epoch  85 Batch    0/4   train_loss = 0.660\n",
      "Epoch  85 Batch    1/4   train_loss = 0.607\n",
      "Epoch  85 Batch    2/4   train_loss = 0.650\n",
      "Epoch  85 Batch    3/4   train_loss = 0.635\n",
      "Epoch  86 Batch    0/4   train_loss = 0.641\n",
      "Epoch  86 Batch    1/4   train_loss = 0.585\n",
      "Epoch  86 Batch    2/4   train_loss = 0.632\n",
      "Epoch  86 Batch    3/4   train_loss = 0.615\n",
      "Epoch  87 Batch    0/4   train_loss = 0.621\n",
      "Epoch  87 Batch    1/4   train_loss = 0.563\n",
      "Epoch  87 Batch    2/4   train_loss = 0.616\n",
      "Epoch  87 Batch    3/4   train_loss = 0.595\n",
      "Epoch  88 Batch    0/4   train_loss = 0.603\n",
      "Epoch  88 Batch    1/4   train_loss = 0.543\n",
      "Epoch  88 Batch    2/4   train_loss = 0.600\n",
      "Epoch  88 Batch    3/4   train_loss = 0.577\n",
      "Epoch  89 Batch    0/4   train_loss = 0.586\n",
      "Epoch  89 Batch    1/4   train_loss = 0.524\n",
      "Epoch  89 Batch    2/4   train_loss = 0.585\n",
      "Epoch  89 Batch    3/4   train_loss = 0.560\n",
      "Epoch  90 Batch    0/4   train_loss = 0.569\n",
      "Epoch  90 Batch    1/4   train_loss = 0.506\n",
      "Epoch  90 Batch    2/4   train_loss = 0.570\n",
      "Epoch  90 Batch    3/4   train_loss = 0.543\n",
      "Epoch  91 Batch    0/4   train_loss = 0.553\n",
      "Epoch  91 Batch    1/4   train_loss = 0.489\n",
      "Epoch  91 Batch    2/4   train_loss = 0.556\n",
      "Epoch  91 Batch    3/4   train_loss = 0.527\n",
      "Epoch  92 Batch    0/4   train_loss = 0.538\n",
      "Epoch  92 Batch    1/4   train_loss = 0.473\n",
      "Epoch  92 Batch    2/4   train_loss = 0.542\n",
      "Epoch  92 Batch    3/4   train_loss = 0.512\n",
      "Epoch  93 Batch    0/4   train_loss = 0.524\n",
      "Epoch  93 Batch    1/4   train_loss = 0.457\n",
      "Epoch  93 Batch    2/4   train_loss = 0.529\n",
      "Epoch  93 Batch    3/4   train_loss = 0.498\n",
      "Epoch  94 Batch    0/4   train_loss = 0.512\n",
      "Epoch  94 Batch    1/4   train_loss = 0.443\n",
      "Epoch  94 Batch    2/4   train_loss = 0.517\n",
      "Epoch  94 Batch    3/4   train_loss = 0.484\n",
      "Epoch  95 Batch    0/4   train_loss = 0.497\n",
      "Epoch  95 Batch    1/4   train_loss = 0.429\n",
      "Epoch  95 Batch    2/4   train_loss = 0.505\n",
      "Epoch  95 Batch    3/4   train_loss = 0.471\n",
      "Epoch  96 Batch    0/4   train_loss = 0.484\n",
      "Epoch  96 Batch    1/4   train_loss = 0.416\n",
      "Epoch  96 Batch    2/4   train_loss = 0.494\n",
      "Epoch  96 Batch    3/4   train_loss = 0.458\n",
      "Epoch  97 Batch    0/4   train_loss = 0.471\n",
      "Epoch  97 Batch    1/4   train_loss = 0.403\n",
      "Epoch  97 Batch    2/4   train_loss = 0.483\n",
      "Epoch  97 Batch    3/4   train_loss = 0.446\n",
      "Epoch  98 Batch    0/4   train_loss = 0.460\n",
      "Epoch  98 Batch    1/4   train_loss = 0.391\n",
      "Epoch  98 Batch    2/4   train_loss = 0.472\n",
      "Epoch  98 Batch    3/4   train_loss = 0.435\n",
      "Epoch  99 Batch    0/4   train_loss = 0.448\n",
      "Epoch  99 Batch    1/4   train_loss = 0.380\n",
      "Epoch  99 Batch    2/4   train_loss = 0.462\n",
      "Epoch  99 Batch    3/4   train_loss = 0.424\n",
      "Model Trained and Saved\n"
     ]
    }
   ],
   "source": [
    "\"\"\"\n",
    "DON'T MODIFY ANYTHING IN THIS CELL\n",
    "\"\"\"\n",
    "batches = get_batches(int_text, batch_size, seq_length)\n",
    "\n",
    "with tf.Session(graph=train_graph) as sess:\n",
    "    sess.run(tf.global_variables_initializer())\n",
    "\n",
    "    for epoch_i in range(num_epochs):\n",
    "        state = sess.run(initial_state, {input_text: batches[0][0]})\n",
    "\n",
    "        for batch_i, (x, y) in enumerate(batches):\n",
    "            feed = {\n",
    "                input_text: x,\n",
    "                targets: y,\n",
    "                initial_state: state,\n",
    "                lr: learning_rate}\n",
    "            train_loss, state, _ = sess.run([cost, final_state, train_op], feed)\n",
    "\n",
    "            # Show every <show_every_n_batches> batches\n",
    "            if (epoch_i * len(batches) + batch_i) % show_every_n_batches == 0:\n",
    "                print('Epoch {:>3} Batch {:>4}/{}   train_loss = {:.3f}'.format(\n",
    "                    epoch_i,\n",
    "                    batch_i,\n",
    "                    len(batches),\n",
    "                    train_loss))\n",
    "\n",
    "    # Save Model\n",
    "    saver = tf.train.Saver()\n",
    "    saver.save(sess, save_dir)\n",
    "    print('Model Trained and Saved')"
   ]
  },
  {
   "cell_type": "markdown",
   "metadata": {
    "deletable": true,
    "editable": true
   },
   "source": [
    "## Save Parameters\n",
    "Save `seq_length` and `save_dir` for generating a new TV script."
   ]
  },
  {
   "cell_type": "code",
   "execution_count": 36,
   "metadata": {
    "collapsed": false,
    "deletable": true,
    "editable": true
   },
   "outputs": [],
   "source": [
    "\"\"\"\n",
    "DON'T MODIFY ANYTHING IN THIS CELL\n",
    "\"\"\"\n",
    "# Save parameters for checkpoint\n",
    "helper.save_params((seq_length, save_dir))"
   ]
  },
  {
   "cell_type": "markdown",
   "metadata": {
    "deletable": true,
    "editable": true
   },
   "source": [
    "# Checkpoint"
   ]
  },
  {
   "cell_type": "code",
   "execution_count": 37,
   "metadata": {
    "collapsed": false,
    "deletable": true,
    "editable": true
   },
   "outputs": [],
   "source": [
    "\"\"\"\n",
    "DON'T MODIFY ANYTHING IN THIS CELL\n",
    "\"\"\"\n",
    "import tensorflow as tf\n",
    "import numpy as np\n",
    "import helper\n",
    "import problem_unittests as tests\n",
    "\n",
    "_, vocab_to_int, int_to_vocab, token_dict = helper.load_preprocess()\n",
    "seq_length, load_dir = helper.load_params()"
   ]
  },
  {
   "cell_type": "markdown",
   "metadata": {
    "deletable": true,
    "editable": true
   },
   "source": [
    "## Implement Generate Functions\n",
    "### Get Tensors\n",
    "Get tensors from `loaded_graph` using the function [`get_tensor_by_name()`](https://www.tensorflow.org/api_docs/python/tf/Graph#get_tensor_by_name).  Get the tensors using the following names:\n",
    "- \"input:0\"\n",
    "- \"initial_state:0\"\n",
    "- \"final_state:0\"\n",
    "- \"probs:0\"\n",
    "\n",
    "Return the tensors in the following tuple `(InputTensor, InitialStateTensor, FinalStateTensor, ProbsTensor)` "
   ]
  },
  {
   "cell_type": "code",
   "execution_count": 38,
   "metadata": {
    "collapsed": false,
    "deletable": true,
    "editable": true
   },
   "outputs": [
    {
     "name": "stdout",
     "output_type": "stream",
     "text": [
      "Tests Passed\n"
     ]
    }
   ],
   "source": [
    "def get_tensors(loaded_graph):\n",
    "    \"\"\"\n",
    "    Get input, initial state, final state, and probabilities tensor from <loaded_graph>\n",
    "    :param loaded_graph: TensorFlow graph loaded from file\n",
    "    :return: Tuple (InputTensor, InitialStateTensor, FinalStateTensor, ProbsTensor)\n",
    "    \"\"\"\n",
    "    # TODO: Implement Function\n",
    "    InputTensor = loaded_graph.get_tensor_by_name('input:0')\n",
    "    InitialStateTensor = loaded_graph.get_tensor_by_name('initial_state:0')\n",
    "    FinalStateTensor = loaded_graph.get_tensor_by_name('final_state:0')\n",
    "    ProbsTensor = loaded_graph.get_tensor_by_name('probs:0')\n",
    "    return InputTensor, InitialStateTensor, FinalStateTensor, ProbsTensor\n",
    "\n",
    "\"\"\"\n",
    "DON'T MODIFY ANYTHING IN THIS CELL THAT IS BELOW THIS LINE\n",
    "\"\"\"\n",
    "tests.test_get_tensors(get_tensors)"
   ]
  },
  {
   "cell_type": "markdown",
   "metadata": {
    "deletable": true,
    "editable": true
   },
   "source": [
    "### Choose Word\n",
    "Implement the `pick_word()` function to select the next word using `probabilities`."
   ]
  },
  {
   "cell_type": "code",
   "execution_count": 39,
   "metadata": {
    "collapsed": true
   },
   "outputs": [],
   "source": [
    "# np.random.choice?"
   ]
  },
  {
   "cell_type": "code",
   "execution_count": 40,
   "metadata": {
    "collapsed": false,
    "deletable": true,
    "editable": true
   },
   "outputs": [
    {
     "name": "stdout",
     "output_type": "stream",
     "text": [
      "Tests Passed\n"
     ]
    }
   ],
   "source": [
    "def pick_word(probabilities, int_to_vocab):\n",
    "    \"\"\"\n",
    "    Pick the next word in the generated text\n",
    "    :param probabilities: Probabilites of the next word\n",
    "    :param int_to_vocab: Dictionary of word ids as the keys and words as the values\n",
    "    :return: String of the predicted word\n",
    "    \"\"\"\n",
    "    # TODO: Implement Function\n",
    "#     print(probabilities)\n",
    "#     print(int_to_vocab)\n",
    "    prob = np.random.choice(len(probabilities), 1, p=probabilities)\n",
    "    prob=int(prob)\n",
    "    next_word = int_to_vocab[prob]\n",
    "    \n",
    "    return next_word\n",
    "\n",
    "\n",
    "\"\"\"\n",
    "DON'T MODIFY ANYTHING IN THIS CELL THAT IS BELOW THIS LINE\n",
    "\"\"\"\n",
    "tests.test_pick_word(pick_word)"
   ]
  },
  {
   "cell_type": "markdown",
   "metadata": {},
   "source": [
    "    probabilities[ 0.1   0.8   0.05  0.05]\n",
    "    int_to_vocab{0: 'this', 1: 'is', 2: 'a', 3: 'test'}\n",
    "    "
   ]
  },
  {
   "cell_type": "markdown",
   "metadata": {
    "deletable": true,
    "editable": true
   },
   "source": [
    "## Generate TV Script\n",
    "This will generate the TV script for you.  Set `gen_length` to the length of TV script you want to generate."
   ]
  },
  {
   "cell_type": "code",
   "execution_count": 41,
   "metadata": {
    "collapsed": false,
    "deletable": true,
    "editable": true
   },
   "outputs": [
    {
     "name": "stdout",
     "output_type": "stream",
     "text": [
      "moe_szyslak: displeased sequel.(phone) where the elite name, my. eh, you've got to barflies on, is mike rotch, has anybody seen mike there?\n",
      "lisa_simpson: can there? wow, not in please mike there? last name, mr.\n",
      "moe_szyslak:(into phone) seen spit. happy thoughts.\n",
      "homer_simpson: okay, okay. but i(to barflies) mike rotch.\n",
      "homer_simpson: honest that rotch, i'll to mike rotch, lately seen work mike rotch.\n",
      "little_man: of the but good, lately?\n",
      "barney_gumble: into into a free pulled a pretzel man, has anybody(into phone) somebody tells there?\n",
      "homer_simpson: okay, you've got to open that store.\n",
      "moe_szyslak:(to see a picture couldn't let me think about it... where the. eh.. no happy thoughts... mike rotch. eh. let want check.. where the little girl folk got to about it. hey, not in their. hey, you've got you to see a picture of the little\n"
     ]
    }
   ],
   "source": [
    "gen_length = 200\n",
    "# homer_simpson, moe_szyslak, or Barney_Gumble\n",
    "prime_word = 'moe_szyslak'\n",
    "\n",
    "\"\"\"\n",
    "DON'T MODIFY ANYTHING IN THIS CELL THAT IS BELOW THIS LINE\n",
    "\"\"\"\n",
    "loaded_graph = tf.Graph()\n",
    "with tf.Session(graph=loaded_graph) as sess:\n",
    "    # Load saved model\n",
    "    loader = tf.train.import_meta_graph(load_dir + '.meta')\n",
    "    loader.restore(sess, load_dir)\n",
    "\n",
    "    # Get Tensors from loaded model\n",
    "    input_text, initial_state, final_state, probs = get_tensors(loaded_graph)\n",
    "\n",
    "    # Sentences generation setup\n",
    "    gen_sentences = [prime_word + ':']\n",
    "    prev_state = sess.run(initial_state, {input_text: np.array([[1]])})\n",
    "\n",
    "    # Generate sentences\n",
    "    for n in range(gen_length):\n",
    "        # Dynamic Input\n",
    "        dyn_input = [[vocab_to_int[word] for word in gen_sentences[-seq_length:]]]\n",
    "        dyn_seq_length = len(dyn_input[0])\n",
    "\n",
    "        # Get Prediction\n",
    "        probabilities, prev_state = sess.run(\n",
    "            [probs, final_state],\n",
    "            {input_text: dyn_input, initial_state: prev_state})\n",
    "        \n",
    "        pred_word = pick_word(probabilities[dyn_seq_length-1], int_to_vocab)\n",
    "\n",
    "        gen_sentences.append(pred_word)\n",
    "    \n",
    "    # Remove tokens\n",
    "    tv_script = ' '.join(gen_sentences)\n",
    "    for key, token in token_dict.items():\n",
    "        ending = ' ' if key in ['\\n', '(', '\"'] else ''\n",
    "        tv_script = tv_script.replace(' ' + token.lower(), key)\n",
    "    tv_script = tv_script.replace('\\n ', '\\n')\n",
    "    tv_script = tv_script.replace('( ', '(')\n",
    "        \n",
    "    print(tv_script)"
   ]
  },
  {
   "cell_type": "markdown",
   "metadata": {
    "deletable": true,
    "editable": true
   },
   "source": [
    "# The TV Script is Nonsensical\n",
    "It's ok if the TV script doesn't make any sense.  We trained on less than a megabyte of text.  In order to get good results, you'll have to use a smaller vocabulary or get more data.  Luckly there's more data!  As we mentioned in the begging of this project, this is a subset of [another dataset](https://www.kaggle.com/wcukierski/the-simpsons-by-the-data).  We didn't have you train on all the data, because that would take too long.  However, you are free to train your neural network on all the data.  After you complete the project, of course.\n",
    "# Submitting This Project\n",
    "When submitting this project, make sure to run all the cells before saving the notebook. Save the notebook file as \"dlnd_tv_script_generation.ipynb\" and save it as a HTML file under \"File\" -> \"Download as\". Include the \"helper.py\" and \"problem_unittests.py\" files in your submission."
   ]
  }
 ],
 "metadata": {
  "kernelspec": {
   "display_name": "Python [default]",
   "language": "python",
   "name": "python3"
  },
  "widgets": {
   "state": {},
   "version": "1.1.2"
  }
 },
 "nbformat": 4,
 "nbformat_minor": 0
}
